{
 "cells": [
  {
   "cell_type": "code",
   "execution_count": 1,
   "metadata": {},
   "outputs": [],
   "source": [
    "import numpy as np\n",
    "import matplotlib.pyplot as pl\n",
    "from numpy.random import RandomState\n",
    "import pandas as pd \n",
    "\n",
    "\n",
    "func_filenames=['/Users/Darania/Desktop/BRCOPT/PL/mean_008_PL_1.nii.gz','/Users/Darania/Desktop/BRCOPT/PL/mean_012_PL_1.nii.gz','/Users/Darania/Desktop/BRCOPT/PL/mean_013_PL_1.nii.gz','/Users/Darania/Desktop/BRCOPT/PL/mean_014_PL_1.nii.gz','/Users/Darania/Desktop/BRCOPT/PL/mean_015_PL_1.nii.gz','/Users/Darania/Desktop/BRCOPT/PL/mean_016_PL_1.nii.gz','/Users/Darania/Desktop/BRCOPT/PL/mean_017_PL_1.nii.gz','/Users/Darania/Desktop/BRCOPT/PL/mean_018_PL_1.nii.gz','/Users/Darania/Desktop/BRCOPT/PL/mean_019_PL_1.nii.gz','/Users/Darania/Desktop/BRCOPT/PL/mean_020_PL_1.nii.gz','/Users/Darania/Desktop/BRCOPT/PL/mean_021_PL_1.nii.gz','/Users/Darania/Desktop/BRCOPT/PL/mean_022_PL_1.nii.gz','/Users/Darania/Desktop/BRCOPT/PL/mean_023_PL_1.nii.gz','/Users/Darania/Desktop/BRCOPT/PL/mean_027_PL_1.nii.gz','/Users/Darania/Desktop/BRCOPT/PL/mean_028_PL_1.nii.gz','/Users/Darania/Desktop/BRCOPT/PL/mean_029_PL_1.nii.gz', '/Users/Darania/Desktop/OXYFOOD/PL/01_PL_CBF.nii.gz','/Users/Darania/Desktop/OXYFOOD/PL/02_PL_CBF.nii.gz','/Users/Darania/Desktop/OXYFOOD/PL/03_PL_CBF.nii.gz','/Users/Darania/Desktop/OXYFOOD/PL/04_PL_CBF.nii.gz','/Users/Darania/Desktop/OXYFOOD/PL/05_PL_CBF.nii.gz','/Users/Darania/Desktop/OXYFOOD/PL/06_PL_CBF.nii.gz','/Users/Darania/Desktop/OXYFOOD/PL/12_PL_CBF.nii.gz','/Users/Darania/Desktop/OXYFOOD/PL/14_PL_CBF.nii.gz','/Users/Darania/Desktop/OXYFOOD/PL/15_PL_CBF.nii.gz','/Users/Darania/Desktop/OXYFOOD/PL/16_PL_CBF.nii.gz','/Users/Darania/Desktop/OXYFOOD/PL/20_PL_CBF.nii.gz','/Users/Darania/Desktop/OXYFOOD/PL/21_PL_CBF.nii.gz','/Users/Darania/Desktop/OXYFOOD/PL/22_PL_CBF.nii.gz','/Users/Darania/Desktop/OXYFOOD/PL/24_PL_CBF.nii.gz','/Users/Darania/Desktop/OXYFOOD/PL/25_PL_CBF.nii.gz','/Users/Darania/Desktop/OXYFOOD/PL/32_PL_CBF.nii.gz','/Users/Darania/Desktop/OXYFOOD/PL/33_PL_CBF.nii.gz','/Users/Darania/Desktop/OXYFOOD/PL/34_PL_CBF.nii.gz','/Users/Darania/Desktop/OXYFOOD/PL/36_PL_CBF.nii.gz','/Users/Darania/Desktop/OXYFOOD/PL/38_PL_CBF.nii.gz','/Users/Darania/Desktop/OXYFOOD/PL/39_PL_CBF.nii.gz','/Users/Darania/Desktop/OXYFOOD/PL/40_PL_CBF.nii.gz','/Users/Darania/Desktop/OXYFOOD/PL/41_PL_CBF.nii.gz','/Users/Darania/Desktop/OXYFOOD/PL/44_PL_CBF.nii.gz','/Users/Darania/Desktop/OXYFOOD/PL/45_PL_CBF.nii.gz']\n",
    "\n",
    "from nilearn.input_data import NiftiMasker\n",
    "\n",
    "masker = NiftiMasker(mask_img='/Users/Darania/Desktop/Mask/avg152T1_GM_thr100Binary.nii') \n",
    "\n",
    "asl_masked = masker.fit_transform(func_filenames)\n"
   ]
  },
  {
   "cell_type": "code",
   "execution_count": 45,
   "metadata": {},
   "outputs": [
    {
     "name": "stderr",
     "output_type": "stream",
     "text": [
      "/anaconda3/lib/python3.7/site-packages/sklearn/metrics/classification.py:1135: UndefinedMetricWarning: F-score is ill-defined and being set to 0.0 in labels with no predicted samples.\n",
      "  'precision', 'predicted', average, warn_for)\n",
      "/anaconda3/lib/python3.7/site-packages/sklearn/metrics/classification.py:1135: UndefinedMetricWarning: F-score is ill-defined and being set to 0.0 in labels with no predicted samples.\n",
      "  'precision', 'predicted', average, warn_for)\n",
      "/anaconda3/lib/python3.7/site-packages/sklearn/metrics/classification.py:1135: UndefinedMetricWarning: F-score is ill-defined and being set to 0.0 in labels with no predicted samples.\n",
      "  'precision', 'predicted', average, warn_for)\n"
     ]
    },
    {
     "data": {
      "text/plain": [
       "0.4276288526288526"
      ]
     },
     "execution_count": 45,
     "metadata": {},
     "output_type": "execute_result"
    }
   ],
   "source": [
    "from sklearn.model_selection import train_test_split\n",
    "#from sklearn.model_selection import KFold\n",
    "from sklearn.model_selection import cross_val_score\n",
    "\n",
    "y=[1,1,1,1,1,1,1,1,1,1,1,1,1,1,1,1,0,0,0,0,0,0,0,0,0,0,0,0,0,0,0,0,0,0,0,0,0,0,0,0,0]\n",
    "yNP=np.asarray(y)\n",
    "#yNP_Random=yNP.copy()\n",
    "#np.random.shuffle(yNP_Random)\n",
    "#X_train, X_test, y_train, y_test = train_test_split(asl_masked, yNP,test_size=0.25,random_state=12)\n",
    "\n",
    "\n",
    "from sklearn import svm\n",
    "\n",
    "modelASL = svm.SVC(kernel='linear')\n",
    "#scores=cross_val_score(modelASL, asl_masked,yNP_Random, cv=10)\n",
    "scores=cross_val_score(modelASL, asl_masked,yNP, cv=5,scoring='f1_macro')\n",
    "#modelASL.fit(X_train, y_train)\n",
    "#modelASL.score(X_test,y_test)\n",
    "np.mean(scores)"
   ]
  },
  {
   "cell_type": "code",
   "execution_count": 44,
   "metadata": {},
   "outputs": [
    {
     "data": {
      "text/plain": [
       "array([0.25      , 0.4       , 0.25      , 0.45833333, 0.6       ,\n",
       "       0.55555556, 1.        , 1.        , 1.        , 0.33333333])"
      ]
     },
     "execution_count": 44,
     "metadata": {},
     "output_type": "execute_result"
    }
   ],
   "source": [
    "scores"
   ]
  },
  {
   "cell_type": "code",
   "execution_count": null,
   "metadata": {},
   "outputs": [],
   "source": []
  },
  {
   "cell_type": "code",
   "execution_count": null,
   "metadata": {},
   "outputs": [],
   "source": []
  }
 ],
 "metadata": {
  "kernelspec": {
   "display_name": "Python 3",
   "language": "python",
   "name": "python3"
  },
  "language_info": {
   "codemirror_mode": {
    "name": "ipython",
    "version": 3
   },
   "file_extension": ".py",
   "mimetype": "text/x-python",
   "name": "python",
   "nbconvert_exporter": "python",
   "pygments_lexer": "ipython3",
   "version": "3.7.0"
  }
 },
 "nbformat": 4,
 "nbformat_minor": 2
}
