{
 "cells": [
  {
   "cell_type": "code",
   "execution_count": 12,
   "metadata": {},
   "outputs": [],
   "source": [
    "import numpy as np\n",
    "import matplotlib.pyplot as pl\n",
    "from numpy.random import RandomState\n",
    "import pandas as pd \n",
    "\n",
    "\n",
    "func_filenames=['/Users/Darania/Desktop/OXYFOOD/HC_OTminusPL/OTminusPL_01_1.nii.gz','/Users/Darania/Desktop/OXYFOOD/HC_OTminusPL/OTminusPL_02_1.nii.gz','/Users/Darania/Desktop/OXYFOOD/HC_OTminusPL/OTminusPL_03_1.nii.gz','/Users/Darania/Desktop/OXYFOOD/HC_OTminusPL/OTminusPL_04_1.nii.gz','/Users/Darania/Desktop/OXYFOOD/HC_OTminusPL/OTminusPL_05_1.nii.gz','/Users/Darania/Desktop/OXYFOOD/HC_OTminusPL/OTminusPL_06_1.nii.gz','/Users/Darania/Desktop/OXYFOOD/HC_OTminusPL/OTminusPL_12_1.nii.gz','/Users/Darania/Desktop/OXYFOOD/HC_OTminusPL/OTminusPL_14_1.nii.gz','/Users/Darania/Desktop/OXYFOOD/HC_OTminusPL/OTminusPL_15_1.nii.gz','/Users/Darania/Desktop/OXYFOOD/HC_OTminusPL/OTminusPL_16_1.nii.gz','/Users/Darania/Desktop/OXYFOOD/HC_OTminusPL/OTminusPL_20_1.nii.gz','/Users/Darania/Desktop/OXYFOOD/HC_OTminusPL/OTminusPL_21_1.nii.gz','/Users/Darania/Desktop/OXYFOOD/HC_OTminusPL/OTminusPL_22_1.nii.gz','/Users/Darania/Desktop/OXYFOOD/HC_OTminusPL/OTminusPL_24_1.nii.gz','/Users/Darania/Desktop/OXYFOOD/HC_OTminusPL/OTminusPL_25_1.nii.gz','/Users/Darania/Desktop/OXYFOOD/HC_OTminusPL/OTminusPL_32_1.nii.gz','/Users/Darania/Desktop/OXYFOOD/HC_OTminusPL/OTminusPL_33_1.nii.gz','/Users/Darania/Desktop/OXYFOOD/HC_OTminusPL/OTminusPL_34_1.nii.gz','/Users/Darania/Desktop/OXYFOOD/HC_OTminusPL/OTminusPL_36_1.nii.gz','/Users/Darania/Desktop/OXYFOOD/HC_OTminusPL/OTminusPL_38_1.nii.gz','/Users/Darania/Desktop/OXYFOOD/HC_OTminusPL/OTminusPL_39_1.nii.gz','/Users/Darania/Desktop/OXYFOOD/HC_OTminusPL/OTminusPL_40_1.nii.gz','/Users/Darania/Desktop/OXYFOOD/HC_OTminusPL/OTminusPL_41_1.nii.gz','/Users/Darania/Desktop/OXYFOOD/HC_OTminusPL/OTminusPL_44_1.nii.gz','/Users/Darania/Desktop/OXYFOOD/HC_OTminusPL/OTminusPL_45_1.nii.gz','/Users/Darania/Desktop/OXYFOOD/PATIENTS_OTminusPL/OTminusPL_07_1.nii.gz','/Users/Darania/Desktop/OXYFOOD/PATIENTS_OTminusPL/OTminusPL_17_1.nii.gz','/Users/Darania/Desktop/OXYFOOD/PATIENTS_OTminusPL/OTminusPL_18_1.nii.gz','/Users/Darania/Desktop/OXYFOOD/PATIENTS_OTminusPL/OTminusPL_26_1.nii.gz','/Users/Darania/Desktop/OXYFOOD/PATIENTS_OTminusPL/OTminusPL_27_1.nii.gz','/Users/Darania/Desktop/OXYFOOD/PATIENTS_OTminusPL/OTminusPL_28_1.nii.gz','/Users/Darania/Desktop/OXYFOOD/PATIENTS_OTminusPL/OTminusPL_30_1.nii.gz','/Users/Darania/Desktop/OXYFOOD/PATIENTS_OTminusPL/OTminusPL_31_1.nii.gz','/Users/Darania/Desktop/OXYFOOD/PATIENTS_OTminusPL/OTminusPL_35_1.nii.gz','/Users/Darania/Desktop/OXYFOOD/PATIENTS_OTminusPL/OTminusPL_37_1.nii.gz','/Users/Darania/Desktop/OXYFOOD/PATIENTS_OTminusPL/OTminusPL_42_1.nii.gz','/Users/Darania/Desktop/OXYFOOD/PATIENTS_OTminusPL/OTminusPL_46_1.nii.gz','/Users/Darania/Desktop/OXYFOOD/PATIENTS_OTminusPL/OTminusPL_47_1.nii.gz','/Users/Darania/Desktop/OXYFOOD/PATIENTS_OTminusPL/OTminusPL_48_1.nii.gz','/Users/Darania/Desktop/OXYFOOD/PATIENTS_OTminusPL/OTminusPL_49_1.nii.gz','/Users/Darania/Desktop/OXYFOOD/PATIENTS_OTminusPL/OTminusPL_50_1.nii.gz','/Users/Darania/Desktop/OXYFOOD/PATIENTS_OTminusPL/OTminusPL_51_1.nii.gz','/Users/Darania/Desktop/OXYFOOD/PATIENTS_OTminusPL/OTminusPL_52_1.nii.gz','/Users/Darania/Desktop/OXYFOOD/PATIENTS_OTminusPL/OTminusPL_54_1.nii.gz','/Users/Darania/Desktop/OXYFOOD/PATIENTS_OTminusPL/OTminusPL_55_1.nii.gz','/Users/Darania/Desktop/OXYFOOD/PATIENTS_OTminusPL/OTminusPL_56_1.nii.gz','/Users/Darania/Desktop/OXYFOOD/PATIENTS_OTminusPL/OTminusPL_57_1.nii.gz','/Users/Darania/Desktop/OXYFOOD/PATIENTS_OTminusPL/OTminusPL_58_1.nii.gz','/Users/Darania/Desktop/OXYFOOD/PATIENTS_OTminusPL/OTminusPL_60_1.nii.gz','/Users/Darania/Desktop/OXYFOOD/PATIENTS_OTminusPL/OTminusPL_62_1.nii.gz','/Users/Darania/Desktop/OXYFOOD/PATIENTS_OTminusPL/OTminusPL_63_1.nii.gz',]\n",
    "\n",
    "from nilearn.input_data import NiftiMasker\n",
    "\n",
    "masker = NiftiMasker(mask_img='/Users/Darania/Desktop/Mask/avg152T1_GM_thr100Binary.nii') \n",
    "\n",
    "asl_masked = masker.fit_transform(func_filenames)\n"
   ]
  },
  {
   "cell_type": "code",
   "execution_count": 13,
   "metadata": {},
   "outputs": [
    {
     "data": {
      "text/plain": [
       "0.3657287157287158"
      ]
     },
     "execution_count": 13,
     "metadata": {},
     "output_type": "execute_result"
    }
   ],
   "source": [
    "from sklearn.model_selection import train_test_split\n",
    "#from sklearn.model_selection import KFold\n",
    "from sklearn.model_selection import cross_val_score\n",
    "\n",
    "y=[2,2,2,2,2,2,2,2,2,2,2,2,2,2,2,2,2,2,2,2,2,2,2,2,2,3,3,3,3,3,3,3,3,3,3,3,3,3,3,3,3,3,3,3,3,3,3,3,3,3,3]\n",
    "yNP=np.asarray(y)\n",
    "#yNP_Random=yNP.copy()\n",
    "#np.random.shuffle(yNP_Random)\n",
    "#X_train, X_test, y_train, y_test = train_test_split(asl_masked, yNP,test_size=0.25,random_state=12)\n",
    "\n",
    "\n",
    "from sklearn import svm\n",
    "\n",
    "modelASL = svm.SVC(kernel='linear')\n",
    "#scores=cross_val_score(modelASL, asl_masked,yNP_Random, cv=10)\n",
    "scores=cross_val_score(modelASL, asl_masked,yNP, cv=5,scoring='f1_macro')\n",
    "#modelASL.fit(X_train, y_train)\n",
    "#modelASL.score(X_test,y_test)\n",
    "np.mean(scores)"
   ]
  },
  {
   "cell_type": "code",
   "execution_count": 14,
   "metadata": {},
   "outputs": [
    {
     "data": {
      "text/plain": [
       "array([0.45      , 0.4       , 0.28571429, 0.4       , 0.29292929])"
      ]
     },
     "execution_count": 14,
     "metadata": {},
     "output_type": "execute_result"
    }
   ],
   "source": [
    "scores"
   ]
  },
  {
   "cell_type": "code",
   "execution_count": null,
   "metadata": {},
   "outputs": [],
   "source": []
  },
  {
   "cell_type": "code",
   "execution_count": null,
   "metadata": {},
   "outputs": [],
   "source": []
  }
 ],
 "metadata": {
  "kernelspec": {
   "display_name": "Python 3",
   "language": "python",
   "name": "python3"
  },
  "language_info": {
   "codemirror_mode": {
    "name": "ipython",
    "version": 3
   },
   "file_extension": ".py",
   "mimetype": "text/x-python",
   "name": "python",
   "nbconvert_exporter": "python",
   "pygments_lexer": "ipython3",
   "version": "3.7.0"
  }
 },
 "nbformat": 4,
 "nbformat_minor": 2
}
