{
 "cells": [
  {
   "cell_type": "code",
   "execution_count": null,
   "metadata": {},
   "outputs": [],
   "source": [
    "import numpy as np\n",
    "import matplotlib.pyplot as pl\n",
    "from numpy.random import RandomState\n",
    "import pandas as pd \n",
    "\n",
    "\n",
    "func_filenames=['/Users/Darania/Desktop/BRCOPT/PL/mean_008_PL_1.nii.gz','/Users/Darania/Desktop/BRCOPT/PL/mean_012_PL_1.nii.gz','/Users/Darania/Desktop/BRCOPT/PL/mean_013_PL_1.nii.gz','/Users/Darania/Desktop/BRCOPT/PL/mean_014_PL_1.nii.gz','/Users/Darania/Desktop/BRCOPT/PL/mean_015_PL_1.nii.gz','/Users/Darania/Desktop/BRCOPT/PL/mean_016_PL_1.nii.gz','/Users/Darania/Desktop/BRCOPT/PL/mean_017_PL_1.nii.gz','/Users/Darania/Desktop/BRCOPT/PL/mean_018_PL_1.nii.gz','/Users/Darania/Desktop/BRCOPT/PL/mean_019_PL_1.nii.gz','/Users/Darania/Desktop/BRCOPT/PL/mean_020_PL_1.nii.gz','/Users/Darania/Desktop/BRCOPT/PL/mean_021_PL_1.nii.gz','/Users/Darania/Desktop/BRCOPT/PL/mean_022_PL_1.nii.gz','/Users/Darania/Desktop/BRCOPT/PL/mean_023_PL_1.nii.gz','/Users/Darania/Desktop/BRCOPT/PL/mean_027_PL_1.nii.gz','/Users/Darania/Desktop/BRCOPT/PL/mean_028_PL_1.nii.gz','/Users/Darania/Desktop/BRCOPT/PL/mean_029_PL_1.nii.gz', '/Users/Darania/Desktop/OXYFOOD/PL/01_PL_CBF.nii.gz','/Users/Darania/Desktop/OXYFOOD/PL/02_PL_CBF.nii.gz','/Users/Darania/Desktop/OXYFOOD/PL/03_PL_CBF.nii.gz','/Users/Darania/Desktop/OXYFOOD/PL/04_PL_CBF.nii.gz','/Users/Darania/Desktop/OXYFOOD/PL/05_PL_CBF.nii.gz','/Users/Darania/Desktop/OXYFOOD/PL/06_PL_CBF.nii.gz','/Users/Darania/Desktop/OXYFOOD/PL/12_PL_CBF.nii.gz','/Users/Darania/Desktop/OXYFOOD/PL/14_PL_CBF.nii.gz','/Users/Darania/Desktop/OXYFOOD/PL/15_PL_CBF.nii.gz','/Users/Darania/Desktop/OXYFOOD/PL/16_PL_CBF.nii.gz','/Users/Darania/Desktop/OXYFOOD/PL/20_PL_CBF.nii.gz','/Users/Darania/Desktop/OXYFOOD/PL/21_PL_CBF.nii.gz','/Users/Darania/Desktop/OXYFOOD/PL/22_PL_CBF.nii.gz','/Users/Darania/Desktop/OXYFOOD/PL/24_PL_CBF.nii.gz','/Users/Darania/Desktop/OXYFOOD/PL/25_PL_CBF.nii.gz','/Users/Darania/Desktop/OXYFOOD/PL/32_PL_CBF.nii.gz','/Users/Darania/Desktop/OXYFOOD/PL/33_PL_CBF.nii.gz','/Users/Darania/Desktop/OXYFOOD/PL/34_PL_CBF.nii.gz','/Users/Darania/Desktop/OXYFOOD/PL/36_PL_CBF.nii.gz','/Users/Darania/Desktop/OXYFOOD/PL/38_PL_CBF.nii.gz','/Users/Darania/Desktop/OXYFOOD/PL/39_PL_CBF.nii.gz','/Users/Darania/Desktop/OXYFOOD/PL/40_PL_CBF.nii.gz','/Users/Darania/Desktop/OXYFOOD/PL/41_PL_CBF.nii.gz','/Users/Darania/Desktop/OXYFOOD/PL/44_PL_CBF.nii.gz','/Users/Darania/Desktop/OXYFOOD/PL/45_PL_CBF.nii.gz']\n",
    "\n",
    "from nilearn.input_data import NiftiMasker\n",
    "\n",
    "masker = NiftiMasker(mask_img='/Users/Darania/Desktop/Mask/avg152T1_GM_thr100Binary.nii') #this command reads in NIFTI files.\n",
    "\n",
    "asl_masked = masker.fit_transform(func_filenames)\n"
   ]
  },
  {
   "cell_type": "code",
   "execution_count": 3,
   "metadata": {},
   "outputs": [
    {
     "ename": "ValueError",
     "evalue": "Found input variables with inconsistent numbers of samples: [41, 5]",
     "output_type": "error",
     "traceback": [
      "\u001b[0;31m---------------------------------------------------------------------------\u001b[0m",
      "\u001b[0;31mValueError\u001b[0m                                Traceback (most recent call last)",
      "\u001b[0;32m<ipython-input-3-27aa1d9f885b>\u001b[0m in \u001b[0;36m<module>\u001b[0;34m()\u001b[0m\n\u001b[1;32m      2\u001b[0m \u001b[0;34m\u001b[0m\u001b[0m\n\u001b[1;32m      3\u001b[0m \u001b[0my\u001b[0m \u001b[0;34m=\u001b[0m \u001b[0;34m[\u001b[0m\u001b[0;36m0\u001b[0m\u001b[0;34m,\u001b[0m\u001b[0;36m1\u001b[0m\u001b[0;34m,\u001b[0m\u001b[0;36m1\u001b[0m\u001b[0;34m,\u001b[0m\u001b[0;36m0\u001b[0m\u001b[0;34m,\u001b[0m\u001b[0;36m1\u001b[0m\u001b[0;34m]\u001b[0m\u001b[0;34m\u001b[0m\u001b[0m\n\u001b[0;32m----> 4\u001b[0;31m \u001b[0mX_train\u001b[0m\u001b[0;34m,\u001b[0m \u001b[0mX_test\u001b[0m\u001b[0;34m,\u001b[0m \u001b[0my_train\u001b[0m\u001b[0;34m,\u001b[0m \u001b[0my_test\u001b[0m \u001b[0;34m=\u001b[0m \u001b[0mtrain_test_split\u001b[0m\u001b[0;34m(\u001b[0m\u001b[0masl_masked\u001b[0m\u001b[0;34m,\u001b[0m \u001b[0my\u001b[0m\u001b[0;34m,\u001b[0m\u001b[0mtest_size\u001b[0m\u001b[0;34m=\u001b[0m\u001b[0;36m0.25\u001b[0m\u001b[0;34m,\u001b[0m\u001b[0mrandom_state\u001b[0m\u001b[0;34m=\u001b[0m\u001b[0;36m2\u001b[0m\u001b[0;34m)\u001b[0m\u001b[0;34m\u001b[0m\u001b[0m\n\u001b[0m\u001b[1;32m      5\u001b[0m \u001b[0;34m\u001b[0m\u001b[0m\n\u001b[1;32m      6\u001b[0m \u001b[0;34m\u001b[0m\u001b[0m\n",
      "\u001b[0;32m/anaconda3/lib/python3.7/site-packages/sklearn/model_selection/_split.py\u001b[0m in \u001b[0;36mtrain_test_split\u001b[0;34m(*arrays, **options)\u001b[0m\n\u001b[1;32m   2029\u001b[0m         \u001b[0mtest_size\u001b[0m \u001b[0;34m=\u001b[0m \u001b[0;36m0.25\u001b[0m\u001b[0;34m\u001b[0m\u001b[0m\n\u001b[1;32m   2030\u001b[0m \u001b[0;34m\u001b[0m\u001b[0m\n\u001b[0;32m-> 2031\u001b[0;31m     \u001b[0marrays\u001b[0m \u001b[0;34m=\u001b[0m \u001b[0mindexable\u001b[0m\u001b[0;34m(\u001b[0m\u001b[0;34m*\u001b[0m\u001b[0marrays\u001b[0m\u001b[0;34m)\u001b[0m\u001b[0;34m\u001b[0m\u001b[0m\n\u001b[0m\u001b[1;32m   2032\u001b[0m \u001b[0;34m\u001b[0m\u001b[0m\n\u001b[1;32m   2033\u001b[0m     \u001b[0;32mif\u001b[0m \u001b[0mshuffle\u001b[0m \u001b[0;32mis\u001b[0m \u001b[0;32mFalse\u001b[0m\u001b[0;34m:\u001b[0m\u001b[0;34m\u001b[0m\u001b[0m\n",
      "\u001b[0;32m/anaconda3/lib/python3.7/site-packages/sklearn/utils/validation.py\u001b[0m in \u001b[0;36mindexable\u001b[0;34m(*iterables)\u001b[0m\n\u001b[1;32m    227\u001b[0m         \u001b[0;32melse\u001b[0m\u001b[0;34m:\u001b[0m\u001b[0;34m\u001b[0m\u001b[0m\n\u001b[1;32m    228\u001b[0m             \u001b[0mresult\u001b[0m\u001b[0;34m.\u001b[0m\u001b[0mappend\u001b[0m\u001b[0;34m(\u001b[0m\u001b[0mnp\u001b[0m\u001b[0;34m.\u001b[0m\u001b[0marray\u001b[0m\u001b[0;34m(\u001b[0m\u001b[0mX\u001b[0m\u001b[0;34m)\u001b[0m\u001b[0;34m)\u001b[0m\u001b[0;34m\u001b[0m\u001b[0m\n\u001b[0;32m--> 229\u001b[0;31m     \u001b[0mcheck_consistent_length\u001b[0m\u001b[0;34m(\u001b[0m\u001b[0;34m*\u001b[0m\u001b[0mresult\u001b[0m\u001b[0;34m)\u001b[0m\u001b[0;34m\u001b[0m\u001b[0m\n\u001b[0m\u001b[1;32m    230\u001b[0m     \u001b[0;32mreturn\u001b[0m \u001b[0mresult\u001b[0m\u001b[0;34m\u001b[0m\u001b[0m\n\u001b[1;32m    231\u001b[0m \u001b[0;34m\u001b[0m\u001b[0m\n",
      "\u001b[0;32m/anaconda3/lib/python3.7/site-packages/sklearn/utils/validation.py\u001b[0m in \u001b[0;36mcheck_consistent_length\u001b[0;34m(*arrays)\u001b[0m\n\u001b[1;32m    202\u001b[0m     \u001b[0;32mif\u001b[0m \u001b[0mlen\u001b[0m\u001b[0;34m(\u001b[0m\u001b[0muniques\u001b[0m\u001b[0;34m)\u001b[0m \u001b[0;34m>\u001b[0m \u001b[0;36m1\u001b[0m\u001b[0;34m:\u001b[0m\u001b[0;34m\u001b[0m\u001b[0m\n\u001b[1;32m    203\u001b[0m         raise ValueError(\"Found input variables with inconsistent numbers of\"\n\u001b[0;32m--> 204\u001b[0;31m                          \" samples: %r\" % [int(l) for l in lengths])\n\u001b[0m\u001b[1;32m    205\u001b[0m \u001b[0;34m\u001b[0m\u001b[0m\n\u001b[1;32m    206\u001b[0m \u001b[0;34m\u001b[0m\u001b[0m\n",
      "\u001b[0;31mValueError\u001b[0m: Found input variables with inconsistent numbers of samples: [41, 5]"
     ]
    }
   ],
   "source": [
    "from sklearn.model_selection import train_test_split\n",
    "\n",
    "y = [0,1,1,0,1] \n",
    "X_train, X_test, y_train, y_test = train_test_split(asl_masked, y,test_size=0.25,random_state=2)\n",
    "\n",
    "\n",
    "from sklearn import svm\n",
    "\n",
    "modelASL = svm.SVC(gamma='scale')\n",
    "modelASL.fit(X_train, y_train)\n",
    "modelASl.score(X_test,y_test)\n"
   ]
  },
  {
   "cell_type": "code",
   "execution_count": null,
   "metadata": {},
   "outputs": [],
   "source": []
  },
  {
   "cell_type": "code",
   "execution_count": null,
   "metadata": {},
   "outputs": [],
   "source": []
  }
 ],
 "metadata": {
  "kernelspec": {
   "display_name": "Python 3",
   "language": "python",
   "name": "python3"
  },
  "language_info": {
   "codemirror_mode": {
    "name": "ipython",
    "version": 3
   },
   "file_extension": ".py",
   "mimetype": "text/x-python",
   "name": "python",
   "nbconvert_exporter": "python",
   "pygments_lexer": "ipython3",
   "version": "3.7.0"
  }
 },
 "nbformat": 4,
 "nbformat_minor": 2
}
