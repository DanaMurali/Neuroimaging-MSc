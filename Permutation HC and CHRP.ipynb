{
 "cells": [
  {
   "cell_type": "code",
   "execution_count": 37,
   "metadata": {},
   "outputs": [
    {
     "name": "stderr",
     "output_type": "stream",
     "text": [
      "/anaconda3/lib/python3.7/site-packages/ipykernel_launcher.py:73: FutureWarning: `rcond` parameter will change to the default of machine precision times ``max(M, N)`` where M and N are the input matrix dimensions.\n",
      "To use the future default and silence this warning we advise to pass `rcond=None`, to keep using the old, explicitly pass `rcond=-1`.\n"
     ]
    },
    {
     "ename": "ValueError",
     "evalue": "operands could not be broadcast together with shapes (46,) (46,171094) ",
     "output_type": "error",
     "traceback": [
      "\u001b[0;31m---------------------------------------------------------------------------\u001b[0m",
      "\u001b[0;31mValueError\u001b[0m                                Traceback (most recent call last)",
      "\u001b[0;32m<ipython-input-37-b85267066398>\u001b[0m in \u001b[0;36m<module>\u001b[0;34m()\u001b[0m\n\u001b[1;32m     73\u001b[0m \u001b[0mmodel_parameters\u001b[0m \u001b[0;34m=\u001b[0m \u001b[0mnp\u001b[0m\u001b[0;34m.\u001b[0m\u001b[0mlinalg\u001b[0m\u001b[0;34m.\u001b[0m\u001b[0mlstsq\u001b[0m\u001b[0;34m(\u001b[0m\u001b[0mA\u001b[0m\u001b[0;34m,\u001b[0m\u001b[0masl_masked\u001b[0m\u001b[0;34m)\u001b[0m\u001b[0;34m\u001b[0m\u001b[0m\n\u001b[1;32m     74\u001b[0m \u001b[0;34m\u001b[0m\u001b[0m\n\u001b[0;32m---> 75\u001b[0;31m \u001b[0masl_maskedNoGM\u001b[0m\u001b[0;34m=\u001b[0m\u001b[0my\u001b[0m\u001b[0;34m-\u001b[0m\u001b[0mnp\u001b[0m\u001b[0;34m.\u001b[0m\u001b[0mdot\u001b[0m\u001b[0;34m(\u001b[0m\u001b[0mA\u001b[0m\u001b[0;34m,\u001b[0m\u001b[0mmodel_parameters\u001b[0m\u001b[0;34m[\u001b[0m\u001b[0;36m0\u001b[0m\u001b[0;34m]\u001b[0m\u001b[0;34m)\u001b[0m\u001b[0;34m\u001b[0m\u001b[0m\n\u001b[0m\u001b[1;32m     76\u001b[0m \u001b[0;31m#for i in range(asl_masked.shape[1]):\u001b[0m\u001b[0;34m\u001b[0m\u001b[0;34m\u001b[0m\u001b[0m\n",
      "\u001b[0;31mValueError\u001b[0m: operands could not be broadcast together with shapes (46,) (46,171094) "
     ]
    }
   ],
   "source": [
    "import numpy as np\n",
    "import matplotlib.pyplot as pl\n",
    "from numpy.random import RandomState\n",
    "import pandas as pd \n",
    "\n",
    "\n",
    "func_filenames=['/Users/Darania/Desktop/BRCUHR/OTminusPL/OTminusPL_001_1.nii.gz', \n",
    "                '/Users/Darania/Desktop/BRCUHR/OTminusPL/OTminusPL_002_1.nii.gz', \n",
    "                '/Users/Darania/Desktop/BRCUHR/OTminusPL/OTminusPL_003_1.nii.gz',\n",
    "                '/Users/Darania/Desktop/BRCUHR/OTminusPL/OTminusPL_004_1.nii.gz',\n",
    "                '/Users/Darania/Desktop/BRCUHR/OTminusPL/OTminusPL_005_1.nii.gz',\n",
    "                '/Users/Darania/Desktop/BRCUHR/OTminusPL/OTminusPL_006_1.nii.gz',\n",
    "                '/Users/Darania/Desktop/BRCUHR/OTminusPL/OTminusPL_007_1.nii.gz',\n",
    "                '/Users/Darania/Desktop/BRCUHR/OTminusPL/OTminusPL_008_1.nii.gz',\n",
    "                '/Users/Darania/Desktop/BRCUHR/OTminusPL/OTminusPL_009_1.nii.gz',\n",
    "                '/Users/Darania/Desktop/BRCUHR/OTminusPL/OTminusPL_010_1.nii.gz',\n",
    "                '/Users/Darania/Desktop/BRCUHR/OTminusPL/OTminusPL_011_1.nii.gz',\n",
    "                '/Users/Darania/Desktop/BRCUHR/OTminusPL/OTminusPL_012_1.nii.gz',\n",
    "                '/Users/Darania/Desktop/BRCUHR/OTminusPL/OTminusPL_013_1.nii.gz',\n",
    "                '/Users/Darania/Desktop/BRCUHR/OTminusPL/OTminusPL_014_1.nii.gz',\n",
    "                '/Users/Darania/Desktop/BRCUHR/OTminusPL/OTminusPL_015_1.nii.gz',\n",
    "                '/Users/Darania/Desktop/BRCUHR/OTminusPL/OTminusPL_016_1.nii.gz',\n",
    "                '/Users/Darania/Desktop/BRCUHR/OTminusPL/OTminusPL_017_1.nii.gz',\n",
    "                '/Users/Darania/Desktop/BRCUHR/OTminusPL/OTminusPL_018_1.nii.gz',\n",
    "                '/Users/Darania/Desktop/BRCUHR/OTminusPL/OTminusPL_019_1.nii.gz',\n",
    "                '/Users/Darania/Desktop/BRCUHR/OTminusPL/OTminusPL_020_1.nii.gz',\n",
    "                '/Users/Darania/Desktop/BRCUHR/OTminusPL/OTminusPL_021_1.nii.gz',\n",
    "                '/Users/Darania/Desktop/BRCUHR/OTminusPL/OTminusPL_022_1.nii.gz',\n",
    "                '/Users/Darania/Desktop/BRCUHR/OTminusPL/OTminusPL_023_1.nii.gz',\n",
    "                '/Users/Darania/Desktop/BRCUHR/OTminusPL/OTminusPL_024_1.nii.gz',\n",
    "                '/Users/Darania/Desktop/BRCUHR/OTminusPL/OTminusPL_025_1.nii.gz',\n",
    "                '/Users/Darania/Desktop/BRCUHR/OTminusPL/OTminusPL_026_1.nii.gz',\n",
    "                '/Users/Darania/Desktop/BRCUHR/OTminusPL/OTminusPL_027_1.nii.gz',\n",
    "                '/Users/Darania/Desktop/BRCUHR/OTminusPL/OTminusPL_028_1.nii.gz',\n",
    "                '/Users/Darania/Desktop/BRCUHR/OTminusPL/OTminusPL_029_1.nii.gz',\n",
    "                '/Users/Darania/Desktop/BRCUHR/OTminusPL/OTminusPL_30_1.nii.gz',\n",
    "                '/Users/Darania/Desktop/BRCOPT/OTminusPL/OTminusPL_008_1.nii.gz',\n",
    "                '/Users/Darania/Desktop/BRCOPT/OTminusPL/OTminusPL_012_1.nii.gz',\n",
    "                '/Users/Darania/Desktop/BRCOPT/OTminusPL/OTminusPL_013_1.nii.gz',\n",
    "                '/Users/Darania/Desktop/BRCOPT/OTminusPL/OTminusPL_014_1.nii.gz',\n",
    "                '/Users/Darania/Desktop/BRCOPT/OTminusPL/OTminusPL_015_1.nii.gz',\n",
    "                '/Users/Darania/Desktop/BRCOPT/OTminusPL/OTminusPL_016_1.nii.gz',\n",
    "                '/Users/Darania/Desktop/BRCOPT/OTminusPL/OTminusPL_017_1.nii.gz',\n",
    "                '/Users/Darania/Desktop/BRCOPT/OTminusPL/OTminusPL_018_1.nii.gz',\n",
    "                '/Users/Darania/Desktop/BRCOPT/OTminusPL/OTminusPL_019_1.nii.gz',\n",
    "                '/Users/Darania/Desktop/BRCOPT/OTminusPL/OTminusPL_020_1.nii.gz',\n",
    "                '/Users/Darania/Desktop/BRCOPT/OTminusPL/OTminusPL_021_1.nii.gz',\n",
    "                '/Users/Darania/Desktop/BRCOPT/OTminusPL/OTminusPL_022_1.nii.gz',\n",
    "                '/Users/Darania/Desktop/BRCOPT/OTminusPL/OTminusPL_023_1.nii.gz',\n",
    "                '/Users/Darania/Desktop/BRCOPT/OTminusPL/OTminusPL_027_1.nii.gz',\n",
    "                '/Users/Darania/Desktop/BRCOPT/OTminusPL/OTminusPL_028_1.nii.gz',\n",
    "                '/Users/Darania/Desktop/BRCOPT/OTminusPL/OTminusPL_029_1.nii.gz']\n",
    "\n",
    "from nilearn.input_data import NiftiMasker\n",
    "\n",
    "y=[0,0,0,0,0,0,0,0,0,0,0,0,0,0,0,0,0,0,0,0,0,0,0,0,0,0,0,0,0,0,1,1,1,1,1,1,1,1,1,1,1,1,1,1,1,1]\n",
    "\n",
    "x=[-4.801009,5.357292,9.998357,8.214825,10.185266,1.278427,-12.665743,1.573637,14.487808,0.994246,5.002754,-0.988221,\n",
    "   0.792364,6.029097,3.314111,3.336052,-11.133268,-2.453412,3.585422,2.654298,0.464415,-4.388451,-5.11444,7.735679,\n",
    "   -0.8672,0.491363,-6.22773,-2.807282,3.278958,-6.331772,-3.662076,-4.933557,-1.257157,-1.828077,-2.476627,-8.0057,\n",
    "   -3.196795,9.906312,0.475824,-1.769396,-7.867777,-1.165806,-2.233996,-5.139627,5.367773,2.52883]\n",
    "\n",
    "\n",
    "masker = NiftiMasker(mask_img='/Users/Darania/Desktop/Mask/avg152T1_GM_thr100Binary.nii') \n",
    "\n",
    "\n",
    "asl_masked = masker.fit_transform(func_filenames)\n",
    "\n",
    "#Regressing out the globals \n",
    "\n",
    "#asl_maskedNoGM=np.zeros(asl_masked.shape)\n",
    "A=np.vstack([x,np.ones(len(x))]).T\n",
    "model_parameters = np.linalg.lstsq(A,asl_masked)\n",
    "\n",
    "asl_maskedNoGM=y-np.dot(A,model_parameters[0])\n",
    "#for i in range(asl_masked.shape[1]):\n"
   ]
  },
  {
   "cell_type": "code",
   "execution_count": null,
   "metadata": {
    "scrolled": true
   },
   "outputs": [],
   "source": [
    "asl_masked.shape"
   ]
  },
  {
   "cell_type": "code",
   "execution_count": null,
   "metadata": {},
   "outputs": [],
   "source": [
    "from sklearn.model_selection import train_test_split\n",
    "#from sklearn.model_selection import KFold\n",
    "from sklearn.model_selection import cross_val_score\n",
    "\n",
    "y=[0,0,0,0,0,0,0,0,0,0,0,0,0,0,0,0,0,0,0,0,0,0,0,0,0,0,0,0,0,0,1,1,1,1,1,1,1,1,1,1,1,1,1,1,1,1]\n",
    "\n",
    "\n",
    "yNP=np.asarray(y)\n",
    "#yNP_Random=yNP.copy()\n",
    "#np.random.shuffle(yNP_Random)\n",
    "X_train, X_test, y_train, y_test = train_test_split(asl_masked, yNP,test_size=0.25,random_state=12)\n",
    "\n",
    "from sklearn import svm\n",
    "from sklearn.model_selection import StratifiedKFold #keeps the same proportion from each dataset.\n",
    "\n",
    "crossval = StratifiedKFold(n_splits=5)\n",
    "\n",
    "modelASL = svm.SVC(kernel='linear', class_weight='balanced')\n",
    "#scores=cross_val_score(modelASL, asl_masked,yNP_Random, cv=10)\n",
    "#scores=cross_val_score(modelASL, asl_masked,yNP, cv=crossval,scoring='accuracy')\n",
    "modelASL.fit(X_train, y_train)\n",
    "score=modelASL.score(X_test,y_test)\n",
    "#np.mean(scores)"
   ]
  },
  {
   "cell_type": "code",
   "execution_count": null,
   "metadata": {},
   "outputs": [],
   "source": [
    "from sklearn.model_selection import cross_val_score\n",
    "from sklearn.model_selection import permutation_test_score\n",
    "\n",
    "#run permutation to repeat for a 1000 times, gives you mean  and what to expect by chance.\n",
    "score, permutation_scores, pvalue = permutation_test_score(modelASL, asl_masked, y, scoring ='accuracy', cv=crossval, n_permutations=5)\n",
    "\n",
    "print(\"Classification accuracy : %g\" % score)\n",
    "print(\"Permutation accuracy : %g\" % permutation_scores.mean())\n",
    "print(\"P-value 1000 permutations : %g\" % pvalue)"
   ]
  },
  {
   "cell_type": "code",
   "execution_count": null,
   "metadata": {},
   "outputs": [],
   "source": [
    "# View histogram of permutation scores\n",
    "import numpy as np\n",
    "import matplotlib.pyplot as plt\n",
    "plt.figure(figsize=(20,10),dpi=180)\n",
    "plt.hist(permutation_scores, 100, label='Permutation scores',\n",
    "         edgecolor='black')\n",
    "ylim = plt.ylim()\n",
    "plt.plot(2 * [score], ylim, '--g', linewidth=3,\n",
    "         label='Classification Score')\n",
    "             \n",
    "plt.plot(2 * [permutation_scores.mean()], ylim, '--k', linewidth=3, label='Chance')\n",
    "#plt.plot(2 * [permutation_scores.mean()], ylim, '--k', linewidth=3, label='Chance',figsize=(20,16),dpi=320)\n",
    "\n",
    "plt.ylim(ylim)\n",
    "plt.legend()\n",
    "plt.xlabel('Score_accuracy')\n",
    "plt.savefig('HCandCHRP.png')\n",
    "plt.show()\n",
    "\n"
   ]
  },
  {
   "cell_type": "code",
   "execution_count": 36,
   "metadata": {},
   "outputs": [
    {
     "ename": "AttributeError",
     "evalue": "'SVC' object has no attribute 'dual_coef_'",
     "output_type": "error",
     "traceback": [
      "\u001b[0;31m---------------------------------------------------------------------------\u001b[0m",
      "\u001b[0;31mAttributeError\u001b[0m                            Traceback (most recent call last)",
      "\u001b[0;32m<ipython-input-36-b0a00b9a21b5>\u001b[0m in \u001b[0;36m<module>\u001b[0;34m()\u001b[0m\n\u001b[1;32m      1\u001b[0m \u001b[0;31m#Create the weights images\u001b[0m\u001b[0;34m\u001b[0m\u001b[0;34m\u001b[0m\u001b[0m\n\u001b[1;32m      2\u001b[0m \u001b[0;31m#coef = modelASL.coef_\u001b[0m\u001b[0;34m\u001b[0m\u001b[0;34m\u001b[0m\u001b[0m\n\u001b[0;32m----> 3\u001b[0;31m \u001b[0mcoef\u001b[0m \u001b[0;34m=\u001b[0m \u001b[0mmodelASL\u001b[0m\u001b[0;34m.\u001b[0m\u001b[0mcoef_\u001b[0m\u001b[0;34m\u001b[0m\u001b[0m\n\u001b[0m\u001b[1;32m      4\u001b[0m \u001b[0;34m\u001b[0m\u001b[0m\n\u001b[1;32m      5\u001b[0m \u001b[0;31m#coef = feature_selection.inverse_transform(coef)\u001b[0m\u001b[0;34m\u001b[0m\u001b[0;34m\u001b[0m\u001b[0m\n",
      "\u001b[0;32m/anaconda3/lib/python3.7/site-packages/sklearn/svm/base.py\u001b[0m in \u001b[0;36mcoef_\u001b[0;34m(self)\u001b[0m\n\u001b[1;32m    466\u001b[0m                                  'linear kernel')\n\u001b[1;32m    467\u001b[0m \u001b[0;34m\u001b[0m\u001b[0m\n\u001b[0;32m--> 468\u001b[0;31m         \u001b[0mcoef\u001b[0m \u001b[0;34m=\u001b[0m \u001b[0mself\u001b[0m\u001b[0;34m.\u001b[0m\u001b[0m_get_coef\u001b[0m\u001b[0;34m(\u001b[0m\u001b[0;34m)\u001b[0m\u001b[0;34m\u001b[0m\u001b[0m\n\u001b[0m\u001b[1;32m    469\u001b[0m \u001b[0;34m\u001b[0m\u001b[0m\n\u001b[1;32m    470\u001b[0m         \u001b[0;31m# coef_ being a read-only property, it's better to mark the value as\u001b[0m\u001b[0;34m\u001b[0m\u001b[0;34m\u001b[0m\u001b[0m\n",
      "\u001b[0;32m/anaconda3/lib/python3.7/site-packages/sklearn/svm/base.py\u001b[0m in \u001b[0;36m_get_coef\u001b[0;34m(self)\u001b[0m\n\u001b[1;32m    673\u001b[0m \u001b[0;34m\u001b[0m\u001b[0m\n\u001b[1;32m    674\u001b[0m     \u001b[0;32mdef\u001b[0m \u001b[0m_get_coef\u001b[0m\u001b[0;34m(\u001b[0m\u001b[0mself\u001b[0m\u001b[0;34m)\u001b[0m\u001b[0;34m:\u001b[0m\u001b[0;34m\u001b[0m\u001b[0m\n\u001b[0;32m--> 675\u001b[0;31m         \u001b[0;32mif\u001b[0m \u001b[0mself\u001b[0m\u001b[0;34m.\u001b[0m\u001b[0mdual_coef_\u001b[0m\u001b[0;34m.\u001b[0m\u001b[0mshape\u001b[0m\u001b[0;34m[\u001b[0m\u001b[0;36m0\u001b[0m\u001b[0;34m]\u001b[0m \u001b[0;34m==\u001b[0m \u001b[0;36m1\u001b[0m\u001b[0;34m:\u001b[0m\u001b[0;34m\u001b[0m\u001b[0m\n\u001b[0m\u001b[1;32m    676\u001b[0m             \u001b[0;31m# binary classifier\u001b[0m\u001b[0;34m\u001b[0m\u001b[0;34m\u001b[0m\u001b[0m\n\u001b[1;32m    677\u001b[0m             \u001b[0mcoef\u001b[0m \u001b[0;34m=\u001b[0m \u001b[0msafe_sparse_dot\u001b[0m\u001b[0;34m(\u001b[0m\u001b[0mself\u001b[0m\u001b[0;34m.\u001b[0m\u001b[0mdual_coef_\u001b[0m\u001b[0;34m,\u001b[0m \u001b[0mself\u001b[0m\u001b[0;34m.\u001b[0m\u001b[0msupport_vectors_\u001b[0m\u001b[0;34m)\u001b[0m\u001b[0;34m\u001b[0m\u001b[0m\n",
      "\u001b[0;31mAttributeError\u001b[0m: 'SVC' object has no attribute 'dual_coef_'"
     ]
    }
   ],
   "source": [
    "#Create the weights images\n",
    "#coef = modelASL.coef_\n",
    "coef = modelASL.coef_\n",
    "\n",
    "#coef = feature_selection.inverse_transform(coef)\n",
    "\n",
    "weight_img = masker.inverse_transform(coef)\n",
    "\n",
    "from nilearn import image\n",
    "mean_img = image.mean_img(func_filenames)\n",
    "\n",
    "from nilearn.plotting import plot_stat_map, show\n",
    "plot_stat_map(weight_img, mean_img, title=\"Accuracy %g\" % score)\n",
    "\n",
    "weight_img.to_filename('HCandCHRP_asl.nii')\n",
    "mean_img.to_filename('mean_image_asl.nii')\n",
    "show()\n",
    "\n"
   ]
  },
  {
   "cell_type": "code",
   "execution_count": null,
   "metadata": {},
   "outputs": [],
   "source": []
  },
  {
   "cell_type": "code",
   "execution_count": null,
   "metadata": {},
   "outputs": [],
   "source": []
  }
 ],
 "metadata": {
  "kernelspec": {
   "display_name": "Python 3",
   "language": "python",
   "name": "python3"
  }
 },
 "nbformat": 4,
 "nbformat_minor": 2
}
