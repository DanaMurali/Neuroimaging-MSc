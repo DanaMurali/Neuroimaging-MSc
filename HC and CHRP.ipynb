{
 "cells": [
  {
   "cell_type": "code",
   "execution_count": 6,
   "metadata": {},
   "outputs": [],
   "source": [
    "import numpy as np\n",
    "import matplotlib.pyplot as pl\n",
    "from numpy.random import RandomState\n",
    "import pandas as pd \n",
    "\n",
    "\n",
    "func_filenames=['/Users/Darania/Desktop/BRCUHR/OTminusPL/OTminusPL_001_1.nii.gz', '/Users/Darania/Desktop/BRCUHR/OTminusPL/OTminusPL_002_1.nii.gz', '/Users/Darania/Desktop/BRCUHR/OTminusPL/OTminusPL_003_1.nii.gz','/Users/Darania/Desktop/BRCUHR/OTminusPL/OTminusPL_004_1.nii.gz','/Users/Darania/Desktop/BRCUHR/OTminusPL/OTminusPL_005_1.nii.gz','/Users/Darania/Desktop/BRCUHR/OTminusPL/OTminusPL_006_1.nii.gz','/Users/Darania/Desktop/BRCUHR/OTminusPL/OTminusPL_007_1.nii.gz','/Users/Darania/Desktop/BRCUHR/OTminusPL/OTminusPL_008_1.nii.gz','/Users/Darania/Desktop/BRCUHR/OTminusPL/OTminusPL_009_1.nii.gz','/Users/Darania/Desktop/BRCUHR/OTminusPL/OTminusPL_010_1.nii.gz','/Users/Darania/Desktop/BRCUHR/OTminusPL/OTminusPL_011_1.nii.gz','/Users/Darania/Desktop/BRCUHR/OTminusPL/OTminusPL_012_1.nii.gz','/Users/Darania/Desktop/BRCUHR/OTminusPL/OTminusPL_013_1.nii.gz','/Users/Darania/Desktop/BRCUHR/OTminusPL/OTminusPL_014_1.nii.gz','/Users/Darania/Desktop/BRCUHR/OTminusPL/OTminusPL_015_1.nii.gz','/Users/Darania/Desktop/BRCUHR/OTminusPL/OTminusPL_016_1.nii.gz','/Users/Darania/Desktop/BRCUHR/OTminusPL/OTminusPL_017_1.nii.gz','/Users/Darania/Desktop/BRCUHR/OTminusPL/OTminusPL_018_1.nii.gz','/Users/Darania/Desktop/BRCUHR/OTminusPL/OTminusPL_019_1.nii.gz','/Users/Darania/Desktop/BRCUHR/OTminusPL/OTminusPL_020_1.nii.gz','/Users/Darania/Desktop/BRCUHR/OTminusPL/OTminusPL_021_1.nii.gz','/Users/Darania/Desktop/BRCUHR/OTminusPL/OTminusPL_022_1.nii.gz','/Users/Darania/Desktop/BRCUHR/OTminusPL/OTminusPL_023_1.nii.gz','/Users/Darania/Desktop/BRCUHR/OTminusPL/OTminusPL_024_1.nii.gz','/Users/Darania/Desktop/BRCUHR/OTminusPL/OTminusPL_025_1.nii.gz','/Users/Darania/Desktop/BRCUHR/OTminusPL/OTminusPL_026_1.nii.gz','/Users/Darania/Desktop/BRCUHR/OTminusPL/OTminusPL_027_1.nii.gz','/Users/Darania/Desktop/BRCUHR/OTminusPL/OTminusPL_028_1.nii.gz','/Users/Darania/Desktop/BRCUHR/OTminusPL/OTminusPL_029_1.nii.gz','/Users/Darania/Desktop/BRCUHR/OTminusPL/OTminusPL_30_1.nii.gz','/Users/Darania/Desktop/BRCOPT/OTminusPL/OTminusPL_008_1.nii.gz','/Users/Darania/Desktop/BRCOPT/OTminusPL/OTminusPL_012_1.nii.gz','/Users/Darania/Desktop/BRCOPT/OTminusPL/OTminusPL_013_1.nii.gz','/Users/Darania/Desktop/BRCOPT/OTminusPL/OTminusPL_014_1.nii.gz','/Users/Darania/Desktop/BRCOPT/OTminusPL/OTminusPL_015_1.nii.gz','/Users/Darania/Desktop/BRCOPT/OTminusPL/OTminusPL_016_1.nii.gz','/Users/Darania/Desktop/BRCOPT/OTminusPL/OTminusPL_017_1.nii.gz','/Users/Darania/Desktop/BRCOPT/OTminusPL/OTminusPL_018_1.nii.gz','/Users/Darania/Desktop/BRCOPT/OTminusPL/OTminusPL_019_1.nii.gz','/Users/Darania/Desktop/BRCOPT/OTminusPL/OTminusPL_020_1.nii.gz','/Users/Darania/Desktop/BRCOPT/OTminusPL/OTminusPL_021_1.nii.gz','/Users/Darania/Desktop/BRCOPT/OTminusPL/OTminusPL_022_1.nii.gz','/Users/Darania/Desktop/BRCOPT/OTminusPL/OTminusPL_023_1.nii.gz','/Users/Darania/Desktop/BRCOPT/OTminusPL/OTminusPL_027_1.nii.gz','/Users/Darania/Desktop/BRCOPT/OTminusPL/OTminusPL_028_1.nii.gz','/Users/Darania/Desktop/BRCOPT/OTminusPL/OTminusPL_029_1.nii.gz']\n",
    "\n",
    "\n",
    "from nilearn.input_data import NiftiMasker\n",
    "\n",
    "masker = NiftiMasker(mask_img='/Users/Darania/Desktop/Mask/avg152T1_GM_thr100Binary.nii') \n",
    "\n",
    "asl_masked = masker.fit_transform(func_filenames)\n"
   ]
  },
  {
   "cell_type": "code",
   "execution_count": 7,
   "metadata": {},
   "outputs": [
    {
     "data": {
      "text/plain": [
       "0.6667932067932069"
      ]
     },
     "execution_count": 7,
     "metadata": {},
     "output_type": "execute_result"
    }
   ],
   "source": [
    "from sklearn.model_selection import train_test_split\n",
    "#from sklearn.model_selection import KFold\n",
    "from sklearn.model_selection import cross_val_score\n",
    "\n",
    "y=[0,0,0,0,0,0,0,0,0,0,0,0,0,0,0,0,0,0,0,0,0,0,0,0,0,0,0,0,0,0,1,1,1,1,1,1,1,1,1,1,1,1,1,1,1,1]\n",
    "\n",
    "yNP=np.asarray(y)\n",
    "#yNP_Random=yNP.copy()\n",
    "#np.random.shuffle(yNP_Random)\n",
    "#X_train, X_test, y_train, y_test = train_test_split(asl_masked, yNP,test_size=0.25,random_state=12)\n",
    "\n",
    "\n",
    "from sklearn import svm\n",
    "\n",
    "modelASL = svm.SVC(kernel='linear')\n",
    "#scores=cross_val_score(modelASL, asl_masked,yNP_Random, cv=10)\n",
    "scores=cross_val_score(modelASL, asl_masked,yNP, cv=5,scoring='f1_macro')\n",
    "#modelASL.fit(X_train, y_train)\n",
    "#modelASL.score(X_test,y_test)\n",
    "np.mean(scores)"
   ]
  },
  {
   "cell_type": "code",
   "execution_count": 11,
   "metadata": {},
   "outputs": [
    {
     "ename": "ValueError",
     "evalue": "Expected cv as an integer, cross-validation object (from sklearn.model_selection) or an iterable. Got <function cross_val_score at 0x1c1b62fb70>.",
     "output_type": "error",
     "traceback": [
      "\u001b[0;31m---------------------------------------------------------------------------\u001b[0m",
      "\u001b[0;31mValueError\u001b[0m                                Traceback (most recent call last)",
      "\u001b[0;32m<ipython-input-11-75ef7dbd1b84>\u001b[0m in \u001b[0;36m<module>\u001b[0;34m()\u001b[0m\n\u001b[1;32m      3\u001b[0m \u001b[0;34m\u001b[0m\u001b[0m\n\u001b[1;32m      4\u001b[0m \u001b[0;31m#run permutation to repeat for a 1000 times, gives you mean  and what to expect by chance.\u001b[0m\u001b[0;34m\u001b[0m\u001b[0;34m\u001b[0m\u001b[0m\n\u001b[0;32m----> 5\u001b[0;31m \u001b[0mscore\u001b[0m\u001b[0;34m,\u001b[0m \u001b[0mpermutation_scores\u001b[0m\u001b[0;34m,\u001b[0m \u001b[0mpvalue\u001b[0m \u001b[0;34m=\u001b[0m \u001b[0mpermutation_test_score\u001b[0m\u001b[0;34m(\u001b[0m\u001b[0mmodelASL\u001b[0m\u001b[0;34m,\u001b[0m \u001b[0masl_masked\u001b[0m\u001b[0;34m,\u001b[0m \u001b[0my\u001b[0m\u001b[0;34m,\u001b[0m \u001b[0mscoring\u001b[0m \u001b[0;34m=\u001b[0m\u001b[0;34m'accuracy'\u001b[0m\u001b[0;34m,\u001b[0m \u001b[0mcv\u001b[0m\u001b[0;34m=\u001b[0m\u001b[0mcrossval\u001b[0m\u001b[0;34m,\u001b[0m \u001b[0mn_permutations\u001b[0m\u001b[0;34m=\u001b[0m\u001b[0;36m1000\u001b[0m\u001b[0;34m)\u001b[0m\u001b[0;34m\u001b[0m\u001b[0m\n\u001b[0m\u001b[1;32m      6\u001b[0m \u001b[0;34m\u001b[0m\u001b[0m\n\u001b[1;32m      7\u001b[0m \u001b[0mprint\u001b[0m\u001b[0;34m(\u001b[0m\u001b[0;34m\"Classification accuracy : %g\"\u001b[0m \u001b[0;34m%\u001b[0m \u001b[0mscore\u001b[0m\u001b[0;34m)\u001b[0m\u001b[0;34m\u001b[0m\u001b[0m\n",
      "\u001b[0;32m/anaconda3/lib/python3.7/site-packages/sklearn/model_selection/_validation.py\u001b[0m in \u001b[0;36mpermutation_test_score\u001b[0;34m(estimator, X, y, groups, cv, n_permutations, n_jobs, random_state, verbose, scoring)\u001b[0m\n\u001b[1;32m    932\u001b[0m     \u001b[0mX\u001b[0m\u001b[0;34m,\u001b[0m \u001b[0my\u001b[0m\u001b[0;34m,\u001b[0m \u001b[0mgroups\u001b[0m \u001b[0;34m=\u001b[0m \u001b[0mindexable\u001b[0m\u001b[0;34m(\u001b[0m\u001b[0mX\u001b[0m\u001b[0;34m,\u001b[0m \u001b[0my\u001b[0m\u001b[0;34m,\u001b[0m \u001b[0mgroups\u001b[0m\u001b[0;34m)\u001b[0m\u001b[0;34m\u001b[0m\u001b[0m\n\u001b[1;32m    933\u001b[0m \u001b[0;34m\u001b[0m\u001b[0m\n\u001b[0;32m--> 934\u001b[0;31m     \u001b[0mcv\u001b[0m \u001b[0;34m=\u001b[0m \u001b[0mcheck_cv\u001b[0m\u001b[0;34m(\u001b[0m\u001b[0mcv\u001b[0m\u001b[0;34m,\u001b[0m \u001b[0my\u001b[0m\u001b[0;34m,\u001b[0m \u001b[0mclassifier\u001b[0m\u001b[0;34m=\u001b[0m\u001b[0mis_classifier\u001b[0m\u001b[0;34m(\u001b[0m\u001b[0mestimator\u001b[0m\u001b[0;34m)\u001b[0m\u001b[0;34m)\u001b[0m\u001b[0;34m\u001b[0m\u001b[0m\n\u001b[0m\u001b[1;32m    935\u001b[0m     \u001b[0mscorer\u001b[0m \u001b[0;34m=\u001b[0m \u001b[0mcheck_scoring\u001b[0m\u001b[0;34m(\u001b[0m\u001b[0mestimator\u001b[0m\u001b[0;34m,\u001b[0m \u001b[0mscoring\u001b[0m\u001b[0;34m=\u001b[0m\u001b[0mscoring\u001b[0m\u001b[0;34m)\u001b[0m\u001b[0;34m\u001b[0m\u001b[0m\n\u001b[1;32m    936\u001b[0m     \u001b[0mrandom_state\u001b[0m \u001b[0;34m=\u001b[0m \u001b[0mcheck_random_state\u001b[0m\u001b[0;34m(\u001b[0m\u001b[0mrandom_state\u001b[0m\u001b[0;34m)\u001b[0m\u001b[0;34m\u001b[0m\u001b[0m\n",
      "\u001b[0;32m/anaconda3/lib/python3.7/site-packages/sklearn/model_selection/_split.py\u001b[0m in \u001b[0;36mcheck_cv\u001b[0;34m(cv, y, classifier)\u001b[0m\n\u001b[1;32m   1912\u001b[0m             raise ValueError(\"Expected cv as an integer, cross-validation \"\n\u001b[1;32m   1913\u001b[0m                              \u001b[0;34m\"object (from sklearn.model_selection) \"\u001b[0m\u001b[0;34m\u001b[0m\u001b[0m\n\u001b[0;32m-> 1914\u001b[0;31m                              \"or an iterable. Got %s.\" % cv)\n\u001b[0m\u001b[1;32m   1915\u001b[0m         \u001b[0;32mreturn\u001b[0m \u001b[0m_CVIterableWrapper\u001b[0m\u001b[0;34m(\u001b[0m\u001b[0mcv\u001b[0m\u001b[0;34m)\u001b[0m\u001b[0;34m\u001b[0m\u001b[0m\n\u001b[1;32m   1916\u001b[0m \u001b[0;34m\u001b[0m\u001b[0m\n",
      "\u001b[0;31mValueError\u001b[0m: Expected cv as an integer, cross-validation object (from sklearn.model_selection) or an iterable. Got <function cross_val_score at 0x1c1b62fb70>."
     ]
    }
   ],
   "source": [
    "from sklearn.model_selection import cross_val_score\n",
    "from sklearn.model_selection import permutation_test_score\n",
    "\n",
    "#run permutation to repeat for a 1000 times, gives you mean  and what to expect by chance.\n",
    "score, permutation_scores, pvalue = permutation_test_score(modelASL, asl_masked, y, scoring ='accuracy', cv=crossval, n_permutations=1000)\n",
    "\n",
    "print(\"Classification accuracy : %g\" % score)\n",
    "print(\"Permutation accuracy : %g\" % permutation_scores.mean())\n",
    "print(\"P-value 1000 permutations : %g\" % pvalue)"
   ]
  },
  {
   "cell_type": "code",
   "execution_count": null,
   "metadata": {},
   "outputs": [],
   "source": []
  },
  {
   "cell_type": "code",
   "execution_count": null,
   "metadata": {},
   "outputs": [],
   "source": []
  }
 ],
 "metadata": {
  "kernelspec": {
   "display_name": "Python 3",
   "language": "python",
   "name": "python3"
  },
  "language_info": {
   "codemirror_mode": {
    "name": "ipython",
    "version": 3
   },
   "file_extension": ".py",
   "mimetype": "text/x-python",
   "name": "python",
   "nbconvert_exporter": "python",
   "pygments_lexer": "ipython3",
   "version": "3.7.0"
  }
 },
 "nbformat": 4,
 "nbformat_minor": 2
}
