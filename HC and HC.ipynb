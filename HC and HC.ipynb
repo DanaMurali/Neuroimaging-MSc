{
 "cells": [
  {
   "cell_type": "code",
   "execution_count": 3,
   "metadata": {},
   "outputs": [
    {
     "name": "stderr",
     "output_type": "stream",
     "text": [
      "/anaconda3/lib/python3.7/site-packages/ipykernel_launcher.py:67: FutureWarning: `rcond` parameter will change to the default of machine precision times ``max(M, N)`` where M and N are the input matrix dimensions.\n",
      "To use the future default and silence this warning we advise to pass `rcond=None`, to keep using the old, explicitly pass `rcond=-1`.\n"
     ]
    },
    {
     "ename": "ValueError",
     "evalue": "operands could not be broadcast together with shapes (41,) (41,171094) ",
     "output_type": "error",
     "traceback": [
      "\u001b[0;31m---------------------------------------------------------------------------\u001b[0m",
      "\u001b[0;31mValueError\u001b[0m                                Traceback (most recent call last)",
      "\u001b[0;32m<ipython-input-3-6924a5714a5e>\u001b[0m in \u001b[0;36m<module>\u001b[0;34m()\u001b[0m\n\u001b[1;32m     67\u001b[0m \u001b[0mmodel_parameters\u001b[0m \u001b[0;34m=\u001b[0m \u001b[0mnp\u001b[0m\u001b[0;34m.\u001b[0m\u001b[0mlinalg\u001b[0m\u001b[0;34m.\u001b[0m\u001b[0mlstsq\u001b[0m\u001b[0;34m(\u001b[0m\u001b[0mA\u001b[0m\u001b[0;34m,\u001b[0m\u001b[0masl_masked\u001b[0m\u001b[0;34m)\u001b[0m\u001b[0;34m\u001b[0m\u001b[0m\n\u001b[1;32m     68\u001b[0m \u001b[0;34m\u001b[0m\u001b[0m\n\u001b[0;32m---> 69\u001b[0;31m \u001b[0masl_maskedNoGM\u001b[0m\u001b[0;34m=\u001b[0m\u001b[0my\u001b[0m\u001b[0;34m-\u001b[0m\u001b[0mnp\u001b[0m\u001b[0;34m.\u001b[0m\u001b[0mdot\u001b[0m\u001b[0;34m(\u001b[0m\u001b[0mA\u001b[0m\u001b[0;34m,\u001b[0m\u001b[0mmodel_parameters\u001b[0m\u001b[0;34m[\u001b[0m\u001b[0;36m0\u001b[0m\u001b[0;34m]\u001b[0m\u001b[0;34m)\u001b[0m\u001b[0;34m\u001b[0m\u001b[0m\n\u001b[0m\u001b[1;32m     70\u001b[0m \u001b[0;31m#for i in range(asl_masked.shape[1]):\u001b[0m\u001b[0;34m\u001b[0m\u001b[0;34m\u001b[0m\u001b[0m\n\u001b[1;32m     71\u001b[0m \u001b[0;34m\u001b[0m\u001b[0m\n",
      "\u001b[0;31mValueError\u001b[0m: operands could not be broadcast together with shapes (41,) (41,171094) "
     ]
    }
   ],
   "source": [
    "import numpy as np\n",
    "import matplotlib.pyplot as pl\n",
    "from numpy.random import RandomState\n",
    "import pandas as pd \n",
    "\n",
    "\n",
    "func_filenames=['/Users/Darania/Desktop/BRCOPT/OTminusPL/OTminusPL_008_1.nii.gz',\n",
    "                '/Users/Darania/Desktop/BRCOPT/OTminusPL/OTminusPL_012_1.nii.gz',\n",
    "                '/Users/Darania/Desktop/BRCOPT/OTminusPL/OTminusPL_013_1.nii.gz',\n",
    "                '/Users/Darania/Desktop/BRCOPT/OTminusPL/OTminusPL_014_1.nii.gz',\n",
    "                '/Users/Darania/Desktop/BRCOPT/OTminusPL/OTminusPL_015_1.nii.gz',\n",
    "                '/Users/Darania/Desktop/BRCOPT/OTminusPL/OTminusPL_016_1.nii.gz',\n",
    "                '/Users/Darania/Desktop/BRCOPT/OTminusPL/OTminusPL_017_1.nii.gz',\n",
    "                '/Users/Darania/Desktop/BRCOPT/OTminusPL/OTminusPL_018_1.nii.gz',\n",
    "                '/Users/Darania/Desktop/BRCOPT/OTminusPL/OTminusPL_019_1.nii.gz',\n",
    "                '/Users/Darania/Desktop/BRCOPT/OTminusPL/OTminusPL_020_1.nii.gz',\n",
    "                '/Users/Darania/Desktop/BRCOPT/OTminusPL/OTminusPL_021_1.nii.gz',\n",
    "                '/Users/Darania/Desktop/BRCOPT/OTminusPL/OTminusPL_022_1.nii.gz',\n",
    "                '/Users/Darania/Desktop/BRCOPT/OTminusPL/OTminusPL_023_1.nii.gz',\n",
    "                '/Users/Darania/Desktop/BRCOPT/OTminusPL/OTminusPL_027_1.nii.gz',\n",
    "                '/Users/Darania/Desktop/BRCOPT/OTminusPL/OTminusPL_028_1.nii.gz',\n",
    "                '/Users/Darania/Desktop/BRCOPT/OTminusPL/OTminusPL_029_1.nii.gz',\n",
    "                '/Users/Darania/Desktop/OXYFOOD/HC_OTminusPL/OTminusPL_01_1.nii.gz',\n",
    "                '/Users/Darania/Desktop/OXYFOOD/HC_OTminusPL/OTminusPL_02_1.nii.gz',\n",
    "                '/Users/Darania/Desktop/OXYFOOD/HC_OTminusPL/OTminusPL_03_1.nii.gz',\n",
    "                '/Users/Darania/Desktop/OXYFOOD/HC_OTminusPL/OTminusPL_04_1.nii.gz',\n",
    "                '/Users/Darania/Desktop/OXYFOOD/HC_OTminusPL/OTminusPL_05_1.nii.gz',\n",
    "                '/Users/Darania/Desktop/OXYFOOD/HC_OTminusPL/OTminusPL_06_1.nii.gz',\n",
    "                '/Users/Darania/Desktop/OXYFOOD/HC_OTminusPL/OTminusPL_12_1.nii.gz',\n",
    "                '/Users/Darania/Desktop/OXYFOOD/HC_OTminusPL/OTminusPL_14_1.nii.gz',\n",
    "                '/Users/Darania/Desktop/OXYFOOD/HC_OTminusPL/OTminusPL_15_1.nii.gz',\n",
    "                '/Users/Darania/Desktop/OXYFOOD/HC_OTminusPL/OTminusPL_16_1.nii.gz',\n",
    "                '/Users/Darania/Desktop/OXYFOOD/HC_OTminusPL/OTminusPL_20_1.nii.gz',\n",
    "                '/Users/Darania/Desktop/OXYFOOD/HC_OTminusPL/OTminusPL_21_1.nii.gz',\n",
    "                '/Users/Darania/Desktop/OXYFOOD/HC_OTminusPL/OTminusPL_22_1.nii.gz',\n",
    "                '/Users/Darania/Desktop/OXYFOOD/HC_OTminusPL/OTminusPL_24_1.nii.gz',\n",
    "                '/Users/Darania/Desktop/OXYFOOD/HC_OTminusPL/OTminusPL_25_1.nii.gz',\n",
    "                '/Users/Darania/Desktop/OXYFOOD/HC_OTminusPL/OTminusPL_32_1.nii.gz',\n",
    "                '/Users/Darania/Desktop/OXYFOOD/HC_OTminusPL/OTminusPL_33_1.nii.gz',\n",
    "                '/Users/Darania/Desktop/OXYFOOD/HC_OTminusPL/OTminusPL_34_1.nii.gz',\n",
    "                '/Users/Darania/Desktop/OXYFOOD/HC_OTminusPL/OTminusPL_36_1.nii.gz',\n",
    "                '/Users/Darania/Desktop/OXYFOOD/HC_OTminusPL/OTminusPL_38_1.nii.gz',\n",
    "                '/Users/Darania/Desktop/OXYFOOD/HC_OTminusPL/OTminusPL_39_1.nii.gz',\n",
    "                '/Users/Darania/Desktop/OXYFOOD/HC_OTminusPL/OTminusPL_40_1.nii.gz',\n",
    "                '/Users/Darania/Desktop/OXYFOOD/HC_OTminusPL/OTminusPL_41_1.nii.gz',\n",
    "                '/Users/Darania/Desktop/OXYFOOD/HC_OTminusPL/OTminusPL_44_1.nii.gz',\n",
    "                '/Users/Darania/Desktop/OXYFOOD/HC_OTminusPL/OTminusPL_45_1.nii.gz']\n",
    "\n",
    "from nilearn.input_data import NiftiMasker\n",
    "\n",
    "y=[1,1,1,1,1,1,1,1,1,1,1,1,1,1,1,1,2,2,2,2,2,2,2,2,2,2,2,2,2,2,2,2,2,2,2,2,2,2,2,2,2]\n",
    "\n",
    "x=[-3.662076,-4.933557,-1.257157,-1.828077,-2.476627,-8.0057,-3.196795,9.906312,0.475824,-1.769396,-7.867777,\n",
    "   -1.165806,-2.233996,-5.139627,5.367773,2.52883,8.055436,6.217704,-2.664304,15.460333,1.164986,4.444371,3.419254,\n",
    "  8.387013,3.47342,0.143663,-2.940179,2.611298,4.439326,2.334596,4.882903,7.589969,2.020786,-0.915214,0.499508,\n",
    "  9.167151,-6.911936,4.942118,-0.932757,7.21753,-1.067143]\n",
    "\n",
    "masker = NiftiMasker(mask_img='/Users/Darania/Desktop/Mask/avg152T1_GM_thr100Binary.nii') \n",
    "\n",
    "\n",
    "asl_masked = masker.fit_transform(func_filenames)\n",
    "\n",
    "\n",
    "\n",
    "#asl_maskedNoGM=np.zeros(asl_masked.shape)\n",
    "A=np.vstack([x,np.ones(len(x))]).T\n",
    "model_parameters = np.linalg.lstsq(A,asl_masked)\n",
    "\n",
    "asl_maskedNoGM=y-np.dot(A,model_parameters[0])\n",
    "#for i in range(asl_masked.shape[1]):\n",
    "\n",
    "\n"
   ]
  },
  {
   "cell_type": "code",
   "execution_count": null,
   "metadata": {},
   "outputs": [],
   "source": [
    "from sklearn.model_selection import train_test_split\n",
    "#from sklearn.model_selection import KFold\n",
    "from sklearn.model_selection import cross_val_score\n",
    "\n",
    "y=[1,1,1,1,1,1,1,1,1,1,1,1,1,1,1,1,2,2,2,2,2,2,2,2,2,2,2,2,2,2,2,2,2,2,2,2,2,2,2,2,2]\n",
    "yNP=np.asarray(y)\n",
    "#yNP_Random=yNP.copy()\n",
    "#np.random.shuffle(yNP_Random)\n",
    "X_train, X_test, y_train, y_test = train_test_split(asl_masked, yNP,test_size=0.25,random_state=12)\n",
    "\n",
    "from sklearn import svm\n",
    "from sklearn.model_selection import StratifiedKFold #keeps the same proportion from each dataset.\n",
    "\n",
    "crossval = StratifiedKFold(n_splits=5)\n",
    "\n",
    "modelASL = svm.SVC(kernel='linear', class_weight='balanced')\n",
    "#scores=cross_val_score(modelASL, asl_masked,yNP_Random, cv=10)\n",
    "#scores=cross_val_score(modelASL, asl_masked,yNP, cv=crossval,scoring='accuracy')\n",
    "modelASL.fit(X_train, y_train)\n",
    "score=modelASL.score(X_test,y_test)\n",
    "#np.mean(scores)"
   ]
  },
  {
   "cell_type": "code",
   "execution_count": null,
   "metadata": {},
   "outputs": [],
   "source": [
    "from sklearn.model_selection import cross_val_score\n",
    "from sklearn.model_selection import permutation_test_score\n",
    "\n",
    "#run permutation to repeat for a 1000 times, gives you mean  and what to expect by chance.\n",
    "score, permutation_scores, pvalue = permutation_test_score(modelASL, asl_masked, y, scoring ='accuracy', cv=crossval, n_permutations=1000)\n",
    "\n",
    "print(\"Classification accuracy : %g\" % score)\n",
    "print(\"Permutation accuracy : %g\" % permutation_scores.mean())\n",
    "print(\"P-value 1000 permutations : %g\" % pvalue)"
   ]
  },
  {
   "cell_type": "code",
   "execution_count": null,
   "metadata": {},
   "outputs": [],
   "source": [
    "# View histogram of permutation scores\n",
    "import numpy as np\n",
    "import matplotlib.pyplot as plt\n",
    "plt.figure(figsize=(20,10),dpi=180)\n",
    "plt.hist(permutation_scores, 100, label='Permutation scores',\n",
    "         edgecolor='black')\n",
    "ylim = plt.ylim()\n",
    "plt.plot(2 * [score], ylim, '--g', linewidth=3,\n",
    "         label='Classification Score')\n",
    "             \n",
    "plt.plot(2 * [permutation_scores.mean()], ylim, '--k', linewidth=3, label='Chance')\n",
    "#plt.plot(2 * [permutation_scores.mean()], ylim, '--k', linewidth=3, label='Chance',figsize=(20,16),dpi=320)\n",
    "\n",
    "plt.ylim(ylim)\n",
    "plt.legend()\n",
    "plt.xlabel('Score_accuracy')\n",
    "plt.savefig('HCandHC.png')\n",
    "plt.show()\n",
    "\n"
   ]
  },
  {
   "cell_type": "code",
   "execution_count": null,
   "metadata": {},
   "outputs": [],
   "source": [
    "#Create the weights images\n",
    "#coef = modelASL.coef_\n",
    "coef = modelASL.coef_\n",
    "\n",
    "#coef = feature_selection.inverse_transform(coef)\n",
    "\n",
    "weight_img = masker.inverse_transform(coef)\n",
    "\n",
    "from nilearn import image\n",
    "mean_img = image.mean_img(func_filenames)\n",
    "\n",
    "from nilearn.plotting import plot_stat_map, show\n",
    "plot_stat_map(weight_img, mean_img, title=\"Accuracy %g\" % score)\n",
    "\n",
    "weight_img.to_filename('HCandHC_asl.nii')\n",
    "mean_img.to_filename('mean_image_asl.nii')\n",
    "show()\n",
    "\n"
   ]
  },
  {
   "cell_type": "code",
   "execution_count": null,
   "metadata": {},
   "outputs": [],
   "source": []
  },
  {
   "cell_type": "code",
   "execution_count": null,
   "metadata": {},
   "outputs": [],
   "source": []
  }
 ],
 "metadata": {
  "kernelspec": {
   "display_name": "Python 3",
   "language": "python",
   "name": "python3"
  },
  "language_info": {
   "codemirror_mode": {
    "name": "ipython",
    "version": 3
   },
   "file_extension": ".py",
   "mimetype": "text/x-python",
   "name": "python",
   "nbconvert_exporter": "python",
   "pygments_lexer": "ipython3",
   "version": "3.7.0"
  }
 },
 "nbformat": 4,
 "nbformat_minor": 2
}
